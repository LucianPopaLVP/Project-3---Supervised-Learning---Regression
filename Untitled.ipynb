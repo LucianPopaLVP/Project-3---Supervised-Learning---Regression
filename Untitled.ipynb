{
 "cells": [
  {
   "cell_type": "markdown",
   "id": "b6e30d1f",
   "metadata": {},
   "source": [
    "## Introduction"
   ]
  },
  {
   "cell_type": "markdown",
   "id": "05d4367c",
   "metadata": {},
   "source": [
    "Air pollution will endanger human health and life in big cities, especially to the elderly and children. This is not an individual  problem of one person but a global problem. Therefore, many countries  in the world made air pollution monitoring and control stations in many cities to observe air pollutants such as NO2, CO, SO2, PM2.5, and PM10 to alert the citizens about pollution index which exceeds the quality threshold. \n",
    "\n",
    "Particulate Matter PM 2.5 is a fine atmospheric pollutant that has a diameter of fewer than 2.5 micrometers. Particulate Matter PM10 is a coarse particulate that is 10  micrometers or less in diameter. Carbon Monoxide CO is a product of combustion of fuel such as coal, wood, or natural gas. Vehicular  emission contributes to the majority of carbon  monoxide  let into  our atmosphere. Nitrogen dioxide or nitrogen oxide expelled from high-temperature combustion: sulfur dioxide SO2 and Sulphur Oxides SO produced by volcanoes and in industrial processes. Petroleum and Coal often contain sulfur compounds, and their combustion generates sulfur dioxide. Air pollution is caused by the presence of poison gases and substances; therefore, it is impacted by the meteorological factors of a particular place, such as temperature, humidity, rain, and wind.\n",
    "\n",
    "In this project, the regression analysis technique is used to  evaluate the relationship between these factors and **predict** nitrogen oxides NOx based on other parameters; **main objective of the analysis is to focus on prediction.**"
   ]
  },
  {
   "cell_type": "markdown",
   "id": "bd5abac3",
   "metadata": {},
   "source": [
    "## Dataset description"
   ]
  },
  {
   "cell_type": "markdown",
   "id": "2c3fe08e",
   "metadata": {},
   "source": [
    "The dataset contains 9358 instances of hourly averaged responses from an array of 5 metal oxide chemical sensors embedded in an Air Quality Chemical Multisensor Device. The device was located on the field in a significantly polluted area, at road level, within an Italian city. Data were recorded from March 2004 to February 2005 (one year) representing the longest freely available recordings of on field deployed air quality chemical sensor devices responses. Ground Truth hourly averaged concentrations for CO, Non Metanic Hydrocarbons, Benzene, Total Nitrogen Oxides (NOx) and Nitrogen Dioxide (NO2) and were provided by a co-located reference certified analyzer.\n",
    "\n",
    "\n",
    "Dataset attribute information:\n",
    "\n",
    "- Date (DD/MM/YYYY)\n",
    "- Time (HH.MM.SS)\n",
    "- True hourly averaged concentration CO in mg/m^3 (reference analyzer)\n",
    "- PT08.S1 (tin oxide) hourly averaged sensor response (nominally CO targeted)\n",
    "- True hourly averaged overall Non Metanic HydroCarbons concentration in microg/m^3 (reference analyzer)\n",
    "- True hourly averaged Benzene concentration in microg/m^3 (reference analyzer)\n",
    "- PT08.S2 (titania) hourly averaged sensor response (nominally NMHC targeted)\n",
    "- True hourly averaged NOx concentration in ppb (reference analyzer)\n",
    "- PT08.S3 (tungsten oxide) hourly averaged sensor response (nominally NOx targeted)\n",
    "- True hourly averaged NO2 concentration in microg/m^3 (reference analyzer)\n",
    "- PT08.S4 (tungsten oxide) hourly averaged sensor response (nominally NO2 targeted)\n",
    "- PT08.S5 (indium oxide) hourly averaged sensor response (nominally O3 targeted)\n",
    "- Temperature in Â°C\n",
    "- Relative Humidity (%)\n",
    "- AH Absolute Humidity\n",
    "\n",
    "\n",
    "This dataset is from the UCI machine learning repository and contains hourly averaged responses from an air quality multi-sensor device that was located in a significantly polluted area at road level in an undisclosed Italian city. This data was collected over the course of approx one year (from March 2004 - February 2005)\n",
    "\n",
    "*For reference*: https://archive.ics.uci.edu/ml/datasets/Air+Quality#\n",
    "\n",
    "*Note*: Evidences of cross-sensitivities as well as both concept and sensor drifts are present as described in De Vito et al., Sens. And Act. B, Vol. 129,2,2008 (citation required) eventually affecting sensors concentration estimation capabilities. **Missing values are tagged with -200 value.**"
   ]
  },
  {
   "cell_type": "code",
   "execution_count": 2,
   "id": "1d18bcb4",
   "metadata": {},
   "outputs": [
    {
     "name": "stdout",
     "output_type": "stream",
     "text": [
      "All done!\n"
     ]
    }
   ],
   "source": [
    "# importing dependencies\n",
    "\n",
    "import numpy as np\n",
    "import pandas as pd\n",
    "import matplotlib.pyplot as plt\n",
    "import seaborn as sns\n",
    "import warnings, pprint\n",
    "\n",
    "from sklearn import metrics\n",
    "from sklearn.preprocessing import MinMaxScaler\n",
    "from sklearn.metrics import mean_squared_error, r2_score\n",
    "from sklearn.preprocessing import StandardScaler, PolynomialFeatures\n",
    "from sklearn.model_selection import KFold, cross_val_predict, train_test_split\n",
    "from sklearn.linear_model import LinearRegression, Lasso, Ridge, RidgeCV, LassoCV, ElasticNetCV \n",
    "from sklearn.pipeline import Pipeline\n",
    "\n",
    "%matplotlib inline\n",
    "\n",
    "print(\"All done!\")"
   ]
  },
  {
   "cell_type": "markdown",
   "id": "f7f53593",
   "metadata": {},
   "source": [
    "## Data cleaning and feature engineering."
   ]
  },
  {
   "cell_type": "code",
   "execution_count": 8,
   "id": "7a36236f",
   "metadata": {},
   "outputs": [],
   "source": [
    "# load and read the data\n",
    "data = pd.read_csv('data/AirQualityUCI.csv', sep=',', decimal=\",\")\n",
    "\n",
    "df = data.copy() # Keep a copy of original data "
   ]
  },
  {
   "cell_type": "code",
   "execution_count": 9,
   "id": "dae50728",
   "metadata": {},
   "outputs": [
    {
     "data": {
      "text/html": [
       "<div>\n",
       "<style scoped>\n",
       "    .dataframe tbody tr th:only-of-type {\n",
       "        vertical-align: middle;\n",
       "    }\n",
       "\n",
       "    .dataframe tbody tr th {\n",
       "        vertical-align: top;\n",
       "    }\n",
       "\n",
       "    .dataframe thead th {\n",
       "        text-align: right;\n",
       "    }\n",
       "</style>\n",
       "<table border=\"1\" class=\"dataframe\">\n",
       "  <thead>\n",
       "    <tr style=\"text-align: right;\">\n",
       "      <th></th>\n",
       "      <th></th>\n",
       "      <th></th>\n",
       "      <th></th>\n",
       "      <th></th>\n",
       "      <th>Date;Time;CO(GT);PT08.S1(CO);NMHC(GT);C6H6(GT);PT08.S2(NMHC);NOx(GT);PT08.S3(NOx);NO2(GT);PT08.S4(NO2);PT08.S5(O3);T;RH;AH;;</th>\n",
       "    </tr>\n",
       "  </thead>\n",
       "  <tbody>\n",
       "    <tr>\n",
       "      <th>10/03/2004;18.00.00;2</th>\n",
       "      <th>6;1360;150;11</th>\n",
       "      <th>9;1046;166;1056;113;1692;1268;13</th>\n",
       "      <th>6;48</th>\n",
       "      <th>9;0</th>\n",
       "      <td>7578;;</td>\n",
       "    </tr>\n",
       "    <tr>\n",
       "      <th>10/03/2004;19.00.00;2;1292;112;9</th>\n",
       "      <th>4;955;103;1174;92;1559;972;13</th>\n",
       "      <th>3;47</th>\n",
       "      <th>7;0</th>\n",
       "      <th>7255;;</th>\n",
       "      <td>NaN</td>\n",
       "    </tr>\n",
       "    <tr>\n",
       "      <th>10/03/2004;20.00.00;2</th>\n",
       "      <th>2;1402;88;9</th>\n",
       "      <th>0;939;131;1140;114;1555;1074;11</th>\n",
       "      <th>9;54</th>\n",
       "      <th>0;0</th>\n",
       "      <td>7502;;</td>\n",
       "    </tr>\n",
       "    <tr>\n",
       "      <th>10/03/2004;21.00.00;2</th>\n",
       "      <th>2;1376;80;9</th>\n",
       "      <th>2;948;172;1092;122;1584;1203;11</th>\n",
       "      <th>0;60</th>\n",
       "      <th>0;0</th>\n",
       "      <td>7867;;</td>\n",
       "    </tr>\n",
       "    <tr>\n",
       "      <th>10/03/2004;22.00.00;1</th>\n",
       "      <th>6;1272;51;6</th>\n",
       "      <th>5;836;131;1205;116;1490;1110;11</th>\n",
       "      <th>2;59</th>\n",
       "      <th>6;0</th>\n",
       "      <td>7888;;</td>\n",
       "    </tr>\n",
       "  </tbody>\n",
       "</table>\n",
       "</div>"
      ],
      "text/plain": [
       "                                                                                                            Date;Time;CO(GT);PT08.S1(CO);NMHC(GT);C6H6(GT);PT08.S2(NMHC);NOx(GT);PT08.S3(NOx);NO2(GT);PT08.S4(NO2);PT08.S5(O3);T;RH;AH;;\n",
       "10/03/2004;18.00.00;2            6;1360;150;11                 9;1046;166;1056;113;1692;1268;13 6;48 9;0                                                7578;;                                                                          \n",
       "10/03/2004;19.00.00;2;1292;112;9 4;955;103;1174;92;1559;972;13 3;47                             7;0  7255;;                                                NaN                                                                          \n",
       "10/03/2004;20.00.00;2            2;1402;88;9                   0;939;131;1140;114;1555;1074;11  9;54 0;0                                                7502;;                                                                          \n",
       "10/03/2004;21.00.00;2            2;1376;80;9                   2;948;172;1092;122;1584;1203;11  0;60 0;0                                                7867;;                                                                          \n",
       "10/03/2004;22.00.00;1            6;1272;51;6                   5;836;131;1205;116;1490;1110;11  2;59 6;0                                                7888;;                                                                          "
      ]
     },
     "execution_count": 9,
     "metadata": {},
     "output_type": "execute_result"
    }
   ],
   "source": [
    "df.head()"
   ]
  },
  {
   "cell_type": "code",
   "execution_count": null,
   "id": "6a7e9d37",
   "metadata": {},
   "outputs": [],
   "source": []
  }
 ],
 "metadata": {
  "kernelspec": {
   "display_name": "Python 3 (ipykernel)",
   "language": "python",
   "name": "python3"
  },
  "language_info": {
   "codemirror_mode": {
    "name": "ipython",
    "version": 3
   },
   "file_extension": ".py",
   "mimetype": "text/x-python",
   "name": "python",
   "nbconvert_exporter": "python",
   "pygments_lexer": "ipython3",
   "version": "3.8.12"
  }
 },
 "nbformat": 4,
 "nbformat_minor": 5
}
