{
 "cells": [
  {
   "cell_type": "markdown",
   "id": "0b08fda9",
   "metadata": {},
   "source": [
    "## Context\n",
    "\n",
    "This is the dataset is a modified version of the California Housing Data used in the paper Pace, R. Kelley, and Ronald Barry. \"Sparse spatial autoregressions.\" Statistics & Probability Letters 33.3 (1997): 291-297.. It serves as an excellent introduction to implementing machine learning algorithms because it requires rudimentary data cleaning, has an easily understandable list of variables and sits at an optimal size between being too toyish and too cumbersome.\n",
    "\n",
    "The data contains information from the 1990 California census. So although it may not help you with predicting current housing prices like the Zillow Zestimate dataset, it does provide an accessible introductory dataset for teaching people about the basics of machine learning."
   ]
  },
  {
   "attachments": {},
   "cell_type": "markdown",
   "id": "10f0666a",
   "metadata": {},
   "source": [
    "## Modifications with respect to the original data\n",
    "\n",
    "This dataset includes 5 extra features defined by me: \"Distance to coast\", \"Distance to Los Angeles\", \"Distance to San Diego\", \"Distance to San Jose\", and \"Distance to San Francisco\". These extra features try to account for the distance to the nearest coast and the distance to the centre of the largest cities in California.\n",
    "\n",
    "The distances were calculated using the Haversine formula with the Longitude and Latitude:\n",
    "\n",
    "https://wikimedia.org/api/rest_v1/media/math/render/svg/a65dbbde43ff45bacd2505fcf32b44fc7dcd8cc0\n",
    "\n",
    "where:\n",
    "\n",
    "* phi_1 and phi_2 are the Latitudes of point 1 and point 2, respectively;\n",
    "* lambda_1 and lambda_2 are the Longitudes of point 1 and point 2, respectively;\n",
    "* r is the radius of the Earth (6371km);"
   ]
  },
  {
   "cell_type": "markdown",
   "id": "a2cdcd33",
   "metadata": {},
   "source": [
    "## Data set summary\n",
    "\n",
    "The data pertains to the houses found in a given California district and some summary stats about them based on the 1990 census data. The columns are as follows, their names are pretty self-explanatory:\n",
    "\n",
    "* 1) Median House Value: Median house value for households within a block (measured in US Dollars) [$]\n",
    "* 2) Median Income: Median income for households within a block of houses (measured in tens of thousands of US Dollars) [10k$]\n",
    "3) Median Age: Median age of a house within a block; a lower number is a newer building [years]\n",
    "4) Total Rooms: Total number of rooms within a block\n",
    "5) Total Bedrooms: Total number of bedrooms within a block\n",
    "6) Population: Total number of people residing within a block\n",
    "7) Households: Total number of households, a group of people residing within a home unit, for a block\n",
    "8) Latitude: A measure of how far north a house is; a higher value is farther north [°]\n",
    "9) Longitude: A measure of how far west a house is; a higher value is farther west [°]\n",
    "10) Distance to coast: Distance to the nearest coast point [m]\n",
    "11) Distance to Los Angeles: Distance to the centre of Los Angeles [m]\n",
    "12) Distance to San Diego: Distance to the centre of San Diego [m]\n",
    "13) Distance to San Jose: Distance to the centre of San Jose [m]\n",
    "14) Distance to San Francisco: Distance to the centre of San Francisco [m]"
   ]
  },
  {
   "cell_type": "code",
   "execution_count": null,
   "id": "5706edd9",
   "metadata": {},
   "outputs": [],
   "source": []
  }
 ],
 "metadata": {
  "kernelspec": {
   "display_name": "Python 3 (ipykernel)",
   "language": "python",
   "name": "python3"
  },
  "language_info": {
   "codemirror_mode": {
    "name": "ipython",
    "version": 3
   },
   "file_extension": ".py",
   "mimetype": "text/x-python",
   "name": "python",
   "nbconvert_exporter": "python",
   "pygments_lexer": "ipython3",
   "version": "3.8.12"
  }
 },
 "nbformat": 4,
 "nbformat_minor": 5
}
